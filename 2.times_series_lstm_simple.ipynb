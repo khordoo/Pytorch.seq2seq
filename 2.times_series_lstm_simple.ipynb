{
 "cells": [
  {
   "cell_type": "code",
   "execution_count": 27,
   "metadata": {},
   "outputs": [],
   "source": [
    "import torch\n",
    "import torch.nn as nn\n",
    "import torch.nn.functional as F\n",
    "import numpy as np"
   ]
  },
  {
   "cell_type": "code",
   "execution_count": 16,
   "metadata": {},
   "outputs": [],
   "source": [
    "moving_window_size = 3\n",
    "input_size = moving_window_size\n",
    "hidden_size = 3\n",
    "num_layers = 1\n",
    "learning_rate = 0.1"
   ]
  },
  {
   "cell_type": "code",
   "execution_count": 19,
   "metadata": {},
   "outputs": [
    {
     "name": "stdout",
     "output_type": "stream",
     "text": [
      "X=\n",
      " [0.  0.1 0.2 0.3 0.4 0.5 0.6 0.7 0.8 0.9]\n",
      "y=\n",
      " [1.  1.2 1.4 1.6 1.8 2.  2.2 2.4 2.6 2.8]\n"
     ]
    }
   ],
   "source": [
    "#Generatig some sample data:\n",
    "x = np.array([0.1*i for i in range(10)])\n",
    "y = 2*x + 1\n",
    "print('X=\\n',x)\n",
    "print('y=\\n',y)"
   ]
  },
  {
   "cell_type": "markdown",
   "metadata": {},
   "source": [
    "**Creating sequences from data**\n",
    "\n",
    "Given past 3 points predict the next future point"
   ]
  },
  {
   "cell_type": "code",
   "execution_count": 20,
   "metadata": {
    "scrolled": true
   },
   "outputs": [
    {
     "name": "stdout",
     "output_type": "stream",
     "text": [
      "X_train sequence:\n",
      "\n",
      "[array([0. , 0.1, 0.2]), array([0.1, 0.2, 0.3]), array([0.2, 0.3, 0.4]), array([0.3, 0.4, 0.5]), array([0.4, 0.5, 0.6]), array([0.5, 0.6, 0.7]), array([0.6, 0.7, 0.8])]\n",
      "\n",
      "Y_train sequence:\n",
      "\n",
      "[1.6, 1.8, 2.0, 2.2, 2.4000000000000004, 2.6, 2.8]\n"
     ]
    }
   ],
   "source": [
    "#Creating  sequence of data for LSTM\n",
    "def moving_window_sampler(x, y, window_size):\n",
    "    x_train, y_train = [], []\n",
    "    for i in range(len(x) - window_size):\n",
    "        x_train.append(x[i:i + window_size])\n",
    "        y_train.append(y[i + window_size])\n",
    "    return x_train, y_train\n",
    "\n",
    "x_train, y_train = moving_window_sampler(x, y, window_size=moving_window_size)\n",
    "print('X_train sequence:\\n')\n",
    "print(x_train)\n",
    "print('\\nY_train sequence:\\n')\n",
    "print(y_train)\n",
    "x_train = torch.FloatTensor([x_train])\n",
    "y_train = torch.FloatTensor(y_train)"
   ]
  },
  {
   "cell_type": "code",
   "execution_count": 24,
   "metadata": {},
   "outputs": [],
   "source": [
    "class Model(nn.Module):\n",
    "    def __init__(self, input_size, hidden_size, num_layers):\n",
    "        super(Model, self).__init__()\n",
    "        self.lstm = nn.LSTM(input_size=input_size, hidden_size=hidden_size, num_layers=num_layers)\n",
    "        self.linear = nn.Linear(hidden_size, 1)\n",
    "\n",
    "    def forward(self, x):\n",
    "        out, _ = self.lstm(x)\n",
    "        return self.linear(out)"
   ]
  },
  {
   "cell_type": "code",
   "execution_count": 25,
   "metadata": {},
   "outputs": [],
   "source": [
    "model = Model(input_size=input_size, hidden_size=hidden_size, num_layers=num_layers)\n",
    "optimizer = torch.optim.Adam(model.parameters(), lr=learning_rate)"
   ]
  },
  {
   "cell_type": "code",
   "execution_count": 26,
   "metadata": {},
   "outputs": [
    {
     "name": "stdout",
     "output_type": "stream",
     "text": [
      "iter: 0  loss: 4.716816425323486\n",
      "iter: 10  loss: 0.18461699783802032\n",
      "iter: 20  loss: 0.13059452176094055\n",
      "iter: 30  loss: 0.17484351992607117\n",
      "iter: 40  loss: 0.09935130178928375\n",
      "iter: 50  loss: 0.06642867624759674\n",
      "iter: 60  loss: 0.035304296761751175\n",
      "iter: 70  loss: 0.009228049777448177\n",
      "iter: 80  loss: 0.0020896506030112505\n",
      "iter: 90  loss: 0.0019083769293501973\n"
     ]
    }
   ],
   "source": [
    "for step in range(100):\n",
    "    optimizer.zero_grad()\n",
    "    y_pred = model(x_train)\n",
    "    loss =F.mse_loss(y_pred.flatten(), y_train)\n",
    "    loss.backward()\n",
    "    optimizer.step()\n",
    "    if step % 10 == 0:\n",
    "        print('iter:', step, ' loss:', loss.item())\n"
   ]
  }
 ],
 "metadata": {
  "kernelspec": {
   "display_name": "Python 3",
   "language": "python",
   "name": "python3"
  },
  "language_info": {
   "codemirror_mode": {
    "name": "ipython",
    "version": 3
   },
   "file_extension": ".py",
   "mimetype": "text/x-python",
   "name": "python",
   "nbconvert_exporter": "python",
   "pygments_lexer": "ipython3",
   "version": "3.7.7"
  }
 },
 "nbformat": 4,
 "nbformat_minor": 2
}
