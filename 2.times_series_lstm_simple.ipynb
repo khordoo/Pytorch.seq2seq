{
 "cells": [
  {
   "cell_type": "code",
   "execution_count": 35,
   "metadata": {},
   "outputs": [],
   "source": [
    "import numpy as np\n",
    "import torch\n",
    "import torch.nn as nn\n",
    "import matplotlib.pyplot as plt"
   ]
  },
  {
   "cell_type": "code",
   "execution_count": 40,
   "metadata": {},
   "outputs": [
    {
     "name": "stdout",
     "output_type": "stream",
     "text": [
      "X=\n",
      " [0.  0.1 0.2 0.3 0.4 0.5 0.6 0.7 0.8 0.9]\n",
      "y=\n",
      " [1.  1.2 1.4 1.6 1.8 2.  2.2 2.4 2.6 2.8]\n"
     ]
    }
   ],
   "source": [
    "moving_window_size = 3\n",
    "input_size = moving_window_size\n",
    "hidden_size = 3\n",
    "num_layers = 1\n",
    "LEARNING_RATE = 0.1\n",
    "\n",
    "#Generatig some sample data:\n",
    "x = np.array([0.1*i for i in range(10)])\n",
    "y = 2*x + 1\n",
    "print('X=\\n',x)\n",
    "print('y=\\n',y)"
   ]
  },
  {
   "cell_type": "markdown",
   "metadata": {},
   "source": [
    "**Creating sequences from data**\n",
    "\n",
    "Given past 3 points predict the next future point"
   ]
  },
  {
   "cell_type": "code",
   "execution_count": 38,
   "metadata": {},
   "outputs": [
    {
     "name": "stdout",
     "output_type": "stream",
     "text": [
      "X_train sequence:\n",
      "\n",
      "[array([0. , 0.1, 0.2]), array([0.1, 0.2, 0.3]), array([0.2, 0.3, 0.4]), array([0.3, 0.4, 0.5]), array([0.4, 0.5, 0.6]), array([0.5, 0.6, 0.7]), array([0.6, 0.7, 0.8])]\n",
      "\n",
      "Y_train sequence:\n",
      "\n",
      "[1.6, 1.8, 2.0, 2.2, 2.4000000000000004, 2.6, 2.8]\n"
     ]
    }
   ],
   "source": [
    "#Creating a sequence of data for LSTM\n",
    "def moving_window_sampler(x, y, window_size):\n",
    "    x_train, y_train = [], []\n",
    "    for i in range(len(x) - window_size):\n",
    "        x_train.append(x[i:i + window_size])\n",
    "        y_train.append(y[i + window_size])\n",
    "    return x_train, y_train\n",
    "\n",
    "x_train, y_train = moving_window_sampler(x, y, window_size=moving_window_size)\n",
    "print('X_train sequence:\\n')\n",
    "print(x_train)\n",
    "print('\\nY_train sequence:\\n')\n",
    "print(y_train)\n",
    "x_train = torch.FloatTensor([x_train])\n",
    "y_train = torch.FloatTensor(y_train)"
   ]
  },
  {
   "cell_type": "code",
   "execution_count": 30,
   "metadata": {},
   "outputs": [],
   "source": [
    "class Model(nn.Module):\n",
    "    def __init__(self, input_size, hidden_size, num_layers):\n",
    "        super(Model, self).__init__()\n",
    "        self.lstm = nn.LSTM(input_size=input_size, hidden_size=hidden_size, num_layers=num_layers)\n",
    "        self.linear = nn.Linear(hidden_size, 1)\n",
    "\n",
    "    def forward(self, x):\n",
    "        out, _ = self.lstm(x)\n",
    "        return self.linear(out)\n",
    "model = Model(input_size=input_size, hidden_size=hidden_size, num_layers=num_layers)\n",
    "optimizer = torch.optim.Adam(model.parameters(), lr=LEARNING_RATE)"
   ]
  },
  {
   "cell_type": "code",
   "execution_count": 41,
   "metadata": {},
   "outputs": [
    {
     "name": "stdout",
     "output_type": "stream",
     "text": [
      "iter: 0  loss: 0.014356245286762714\n",
      "iter: 10  loss: 0.012688360176980495\n",
      "iter: 20  loss: 0.011183018796145916\n",
      "iter: 30  loss: 0.009839385747909546\n",
      "iter: 40  loss: 0.008659387938678265\n",
      "iter: 50  loss: 0.007645059376955032\n",
      "iter: 60  loss: 0.006791248917579651\n",
      "iter: 70  loss: 0.006088207475841045\n",
      "iter: 80  loss: 0.0055214278399944305\n",
      "iter: 90  loss: 0.005073525942862034\n"
     ]
    }
   ],
   "source": [
    "for step in range(100):\n",
    "    optimizer.zero_grad()\n",
    "    y_pred = model(x_train)\n",
    "    loss = torch.nn.functional.mse_loss(y_pred.flatten(), y_train)\n",
    "    loss.backward()\n",
    "    optimizer.step()\n",
    "    if step % 10 == 0:\n",
    "        print('iter:', step, ' loss:', loss.item())\n"
   ]
  },
  {
   "cell_type": "code",
   "execution_count": null,
   "metadata": {},
   "outputs": [],
   "source": []
  }
 ],
 "metadata": {
  "kernelspec": {
   "display_name": "Python 3",
   "language": "python",
   "name": "python3"
  },
  "language_info": {
   "codemirror_mode": {
    "name": "ipython",
    "version": 3
   },
   "file_extension": ".py",
   "mimetype": "text/x-python",
   "name": "python",
   "nbconvert_exporter": "python",
   "pygments_lexer": "ipython3",
   "version": "3.7.7"
  }
 },
 "nbformat": 4,
 "nbformat_minor": 2
}
