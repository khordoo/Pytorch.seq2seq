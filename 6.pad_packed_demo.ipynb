{
 "cells": [
  {
   "cell_type": "code",
   "execution_count": 97,
   "metadata": {},
   "outputs": [],
   "source": [
    "import torch\n",
    "from torch.nn import Embedding, LSTM\n",
    "from torch.nn.utils.rnn import pad_sequence,pack_padded_sequence, pad_packed_sequence"
   ]
  },
  {
   "cell_type": "markdown",
   "metadata": {},
   "source": [
    "In this notebook we are going to explain how to make a variable-length sequence suitable to be fed into an RNN (LSTM, GRU, etc) layer.\n",
    "\n",
    "Here are the steps:\n",
    "\n",
    "1. Create a variable-length sequence.\n",
    "2. Pad the sequences to make them of the same length\n",
    "3. Create an embedding for them.\n",
    "4. Pack the embeddings (to speedup the RNN calculations)\n",
    "5. Feed the (now packed) embeddings to LSTM to get outputs\n",
    "\n",
    "To achieve the goal, we are going to use two utility functions from PyTorch. \n",
    "\n",
    "- **pad_sequence** (Simply adds zeros to the sequences so that they all have the same size)\n",
    "- **pack_padded_sequence** (Not necessarily required, but to be able to use the GPU more efficiently and speed up the RNN calculations)\n",
    "\n",
    "In simple terms, the first methods pads (adds zeros) to the sequence, and the second one packs the previously padded sequence.\n",
    "\n",
    "Lest first create our plain embedding and lstm layers:"
   ]
  },
  {
   "cell_type": "code",
   "execution_count": 95,
   "metadata": {},
   "outputs": [],
   "source": [
    "embedding = Embedding(num_embeddings=11, embedding_dim=6)\n",
    "lstm = LSTM(input_size=6, hidden_size=2, batch_first=True) "
   ]
  },
  {
   "cell_type": "markdown",
   "metadata": {},
   "source": [
    "Now, let's create a dummy sequence, You can assume these are our word indexes from a text."
   ]
  },
  {
   "cell_type": "code",
   "execution_count": 112,
   "metadata": {},
   "outputs": [],
   "source": [
    "sequences = [   \n",
    "    [1, 2, 3],\n",
    "    [4, 5],\n",
    "    [6, 7, 8, 9,10]\n",
    "]"
   ]
  },
  {
   "cell_type": "markdown",
   "metadata": {},
   "source": [
    "Before starting the padding, first we need to store the length of each sequence.\n",
    "We need these lengths so that later on, we know exactly how to pack them and get rid of extra zeros in each sequence.\n",
    "This way, we don't have to do additional calculations on some useless zeros(pad values) and this will speed up our RNN calculations."
   ]
  },
  {
   "cell_type": "code",
   "execution_count": 113,
   "metadata": {},
   "outputs": [],
   "source": [
    "#Just converting to tensor\n",
    "sequences = [torch.LongTensor(sequence) for sequence in sequences]\n",
    "\n",
    "sequence_lengths = torch.LongTensor([len(sequence) for sequence in sequences])"
   ]
  },
  {
   "cell_type": "code",
   "execution_count": 101,
   "metadata": {},
   "outputs": [
    {
     "data": {
      "text/plain": [
       "tensor([[ 1,  2,  3,  0,  0],\n",
       "        [ 4,  5,  0,  0,  0],\n",
       "        [ 6,  7,  8,  9, 10]])"
      ]
     },
     "execution_count": 101,
     "metadata": {},
     "output_type": "execute_result"
    }
   ],
   "source": [
    "#Padding\n",
    "sequences_padded = pad_sequence(sequences, batch_first=True)\n",
    "sequences_padded"
   ]
  },
  {
   "cell_type": "code",
   "execution_count": 103,
   "metadata": {
    "scrolled": false
   },
   "outputs": [
    {
     "data": {
      "text/plain": [
       "tensor([[[ 0.0156, -1.5339, -1.2978,  0.1378,  1.8157, -1.3471],\n",
       "         [ 0.0477, -0.4786,  0.3953, -0.2040,  0.0090,  0.2621],\n",
       "         [-0.1940, -0.7023, -0.0594, -1.4842, -0.2198,  2.0790],\n",
       "         [-0.5867,  0.1666, -0.3996,  0.1341, -0.1119,  0.7339],\n",
       "         [-0.5867,  0.1666, -0.3996,  0.1341, -0.1119,  0.7339]],\n",
       "\n",
       "        [[ 0.1332,  0.8129,  0.6422, -1.3937,  0.4574,  1.1438],\n",
       "         [-1.0561, -0.0487, -1.0327,  1.3329, -0.3732,  0.2648],\n",
       "         [-0.5867,  0.1666, -0.3996,  0.1341, -0.1119,  0.7339],\n",
       "         [-0.5867,  0.1666, -0.3996,  0.1341, -0.1119,  0.7339],\n",
       "         [-0.5867,  0.1666, -0.3996,  0.1341, -0.1119,  0.7339]],\n",
       "\n",
       "        [[-0.0696,  0.6170, -1.0367,  1.3480, -0.2523,  1.3595],\n",
       "         [ 0.1045, -0.9941,  0.3233,  0.6303, -0.1361,  0.7212],\n",
       "         [ 1.0210,  0.4265,  1.2371, -0.1587, -0.6275, -0.1299],\n",
       "         [-0.6500, -2.0193,  0.2288,  0.5275, -1.2682, -0.1638],\n",
       "         [ 0.1543, -0.0838,  1.6952,  1.5009, -0.0633,  1.0448]]],\n",
       "       grad_fn=<EmbeddingBackward>)"
      ]
     },
     "execution_count": 103,
     "metadata": {},
     "output_type": "execute_result"
    }
   ],
   "source": [
    "#Embedding\n",
    "sequences_embedded = embedding(sequences_padded)\n",
    "sequences_embedded"
   ]
  },
  {
   "cell_type": "code",
   "execution_count": 114,
   "metadata": {},
   "outputs": [
    {
     "data": {
      "text/plain": [
       "PackedSequence(data=tensor([[-0.0696,  0.6170, -1.0367,  1.3480, -0.2523,  1.3595],\n",
       "        [ 0.0156, -1.5339, -1.2978,  0.1378,  1.8157, -1.3471],\n",
       "        [ 0.1332,  0.8129,  0.6422, -1.3937,  0.4574,  1.1438],\n",
       "        [ 0.1045, -0.9941,  0.3233,  0.6303, -0.1361,  0.7212],\n",
       "        [ 0.0477, -0.4786,  0.3953, -0.2040,  0.0090,  0.2621],\n",
       "        [-1.0561, -0.0487, -1.0327,  1.3329, -0.3732,  0.2648],\n",
       "        [ 1.0210,  0.4265,  1.2371, -0.1587, -0.6275, -0.1299],\n",
       "        [-0.1940, -0.7023, -0.0594, -1.4842, -0.2198,  2.0790],\n",
       "        [-0.6500, -2.0193,  0.2288,  0.5275, -1.2682, -0.1638],\n",
       "        [ 0.1543, -0.0838,  1.6952,  1.5009, -0.0633,  1.0448]],\n",
       "       grad_fn=<PackPaddedSequenceBackward>), batch_sizes=tensor([3, 3, 2, 1, 1]), sorted_indices=tensor([2, 0, 1]), unsorted_indices=tensor([1, 2, 0]))"
      ]
     },
     "execution_count": 114,
     "metadata": {},
     "output_type": "execute_result"
    }
   ],
   "source": [
    "#Packing\n",
    "sequences_packed = pack_padded_sequence(sequences_embedded, sequence_lengths.numpy(), batch_first=True,enforce_sorted=False)\n",
    "sequences_packed"
   ]
  },
  {
   "cell_type": "code",
   "execution_count": 104,
   "metadata": {
    "scrolled": false
   },
   "outputs": [
    {
     "data": {
      "text/plain": [
       "PackedSequence(data=tensor([[ 0.2482, -0.0007],\n",
       "        [ 0.0330,  0.0671],\n",
       "        [-0.5475, -0.1302],\n",
       "        [ 0.0246, -0.4361],\n",
       "        [ 0.1176,  0.0187],\n",
       "        [-0.2820,  0.0623],\n",
       "        [-0.0620, -0.0509],\n",
       "        [ 0.1343,  0.0185],\n",
       "        [ 0.1416, -0.0037],\n",
       "        [ 0.0361, -0.2860]], grad_fn=<CatBackward>), batch_sizes=tensor([3, 3, 2, 1, 1]), sorted_indices=tensor([2, 0, 1]), unsorted_indices=tensor([1, 2, 0]))"
      ]
     },
     "execution_count": 104,
     "metadata": {},
     "output_type": "execute_result"
    }
   ],
   "source": [
    "#LSTM\n",
    "output_packed, (hidden,context) = lstm(sequences_packed)\n",
    "output_packed"
   ]
  },
  {
   "cell_type": "markdown",
   "metadata": {},
   "source": [
    "LSTM returns a packed output since it has received a packed input. The *packed_output* is in fact is a Named Tuple which provides some additional information that we might not care about. The actual output that we want is in compress(packed) form in the *data* field. How should we uncompress it and get our actual output values? \n"
   ]
  },
  {
   "cell_type": "markdown",
   "metadata": {},
   "source": [
    "**UnPacking**\n",
    "\n",
    "*pad_packed_sequence*  might seems a bit confusing at the beginning but its role is actually very simple. Whenever we pack something we need to be able to unpack it again, right? (Think of zip and unzip). So here, this function just un-packs a sequence. (Which obviously should have already been packed)."
   ]
  },
  {
   "cell_type": "code",
   "execution_count": 81,
   "metadata": {
    "scrolled": true
   },
   "outputs": [
    {
     "data": {
      "text/plain": [
       "tensor([[[ 0.1460, -0.0190],\n",
       "         [ 0.0310,  0.1895],\n",
       "         [-0.0563,  0.1111],\n",
       "         [ 0.0000,  0.0000],\n",
       "         [ 0.0000,  0.0000]],\n",
       "\n",
       "        [[ 0.1946, -0.0966],\n",
       "         [ 0.3288,  0.0354],\n",
       "         [ 0.0000,  0.0000],\n",
       "         [ 0.0000,  0.0000],\n",
       "         [ 0.0000,  0.0000]],\n",
       "\n",
       "        [[ 0.2749, -0.2889],\n",
       "         [ 0.3955, -0.2364],\n",
       "         [ 0.4496, -0.3379],\n",
       "         [ 0.7398, -0.1794],\n",
       "         [ 0.2583, -0.4079]]], grad_fn=<IndexSelectBackward>)"
      ]
     },
     "execution_count": 81,
     "metadata": {},
     "output_type": "execute_result"
    }
   ],
   "source": [
    "unpacked_out, input_sequence_sizes = pad_packed_sequence(output_packed, batch_first=True)\n",
    "unpacked_out"
   ]
  },
  {
   "cell_type": "markdown",
   "metadata": {},
   "source": [
    "If we closely look at this unpacked output and compare it to the packed version above, we can see that the packed version does not have any results for the padded rows (i.e rows with zero, remember we used 0 for padding) . This  means that we have not done any unnecessary computations in the LSTM. Thats the benefit of using a packed input for our recurrent layer.\n",
    "\n",
    "We can treat this output as a typical LSTM output and used it for any related calculations(e.g. encoder-decoder). Additionally, if we need the *hidden state* of the last layer of LSTM (context vector), we can get it like this:"
   ]
  },
  {
   "cell_type": "code",
   "execution_count": 116,
   "metadata": {
    "scrolled": true
   },
   "outputs": [
    {
     "data": {
      "text/plain": [
       "tensor([[ 0.1343,  0.0185],\n",
       "        [-0.2820,  0.0623],\n",
       "        [ 0.0361, -0.2860]], grad_fn=<SelectBackward>)"
      ]
     },
     "execution_count": 116,
     "metadata": {},
     "output_type": "execute_result"
    }
   ],
   "source": [
    "hidden[-1]"
   ]
  }
 ],
 "metadata": {
  "kernelspec": {
   "display_name": "Python 3",
   "language": "python",
   "name": "python3"
  },
  "language_info": {
   "codemirror_mode": {
    "name": "ipython",
    "version": 3
   },
   "file_extension": ".py",
   "mimetype": "text/x-python",
   "name": "python",
   "nbconvert_exporter": "python",
   "pygments_lexer": "ipython3",
   "version": "3.7.7"
  }
 },
 "nbformat": 4,
 "nbformat_minor": 2
}
