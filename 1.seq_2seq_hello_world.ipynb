{
 "cells": [
  {
   "cell_type": "code",
   "execution_count": 15,
   "metadata": {},
   "outputs": [
    {
     "name": "stdout",
     "output_type": "stream",
     "text": [
      "Unique chars: {'l', 'e', 'o', 'h'}\n"
     ]
    }
   ],
   "source": [
    "import torch\n",
    "import numpy as np\n",
    "\n",
    "source = 'hello'\n",
    "target = 'olleh'\n",
    "unique_characters = set(source + target)\n",
    "character_size = len(unique_characters)\n",
    "hidden_size = 2\n",
    "num_layers = 1\n",
    "learning_rate=0.1\n",
    "print('Unique chars:',unique_characters)"
   ]
  },
  {
   "cell_type": "code",
   "execution_count": null,
   "metadata": {},
   "outputs": [],
   "source": [
    "char2index = {c: i for i, c in enumerate(unique_characters)}\n",
    "index2char = {i: c for i, c in enumerate(unique_characters)}\n",
    "def one_hot_encoding(sentence, vocabulary_size):\n",
    "    \"\"\"Simple utility to convert characters into one hot encoding\"\"\"\n",
    "    one_hot = np.zeros((1, len(sentence), vocabulary_size))\n",
    "    for index, c in enumerate(sentence):\n",
    "        one_hot[0, index, char2index[c]] = 1\n",
    "    return one_hot"
   ]
  },
  {
   "cell_type": "markdown",
   "metadata": {},
   "source": [
    "### Simple Preprocessing \n",
    "We simply convert each character to a number "
   ]
  },
  {
   "cell_type": "code",
   "execution_count": 21,
   "metadata": {},
   "outputs": [
    {
     "name": "stdout",
     "output_type": "stream",
     "text": [
      "Source one hot encoded:\n",
      " [[[0. 0. 0. 1.]\n",
      "  [0. 1. 0. 0.]\n",
      "  [1. 0. 0. 0.]\n",
      "  [1. 0. 0. 0.]\n",
      "  [0. 0. 1. 0.]]]\n",
      "target index:\n",
      " [2, 0, 0, 1, 3]\n"
     ]
    }
   ],
   "source": [
    "source_one_hot = one_hot_encoding(source, character_size)\n",
    "target_indexed = [char2idx[c] for c in target]\n",
    "print('Source one hot encoded:\\n',source_one_hot)\n",
    "print('target index:\\n',target_indexed)\n",
    "source_v = torch.FloatTensor(source_one_hot)\n",
    "target_v = torch.LongTensor(target_indexed)"
   ]
  },
  {
   "cell_type": "code",
   "execution_count": 22,
   "metadata": {
    "scrolled": false
   },
   "outputs": [
    {
     "name": "stdout",
     "output_type": "stream",
     "text": [
      "Predicted word: hollh\n",
      "Epoc: 0  loss: 1.3083043098449707\n",
      "Predicted word: hllhh\n",
      "Epoc: 1  loss: 1.2409477233886719\n",
      "Predicted word: llllh\n",
      "Epoc: 2  loss: 1.1034144163131714\n",
      "Predicted word: olllh\n",
      "Epoc: 3  loss: 1.0143383741378784\n",
      "Predicted word: olllh\n",
      "Epoc: 4  loss: 0.9636384844779968\n",
      "Predicted word: olllh\n",
      "Epoc: 5  loss: 0.8992897272109985\n",
      "Predicted word: olllh\n",
      "Epoc: 6  loss: 0.8313344717025757\n",
      "Predicted word: olllh\n",
      "Epoc: 7  loss: 0.7630955576896667\n",
      "Predicted word: olllh\n",
      "Epoc: 8  loss: 0.6958886981010437\n",
      "Predicted word: olleh\n",
      "Epoc: 9  loss: 0.6376038789749146\n"
     ]
    }
   ],
   "source": [
    "rnn = torch.nn.RNN(input_size=len(uniq_char), hidden_size=len(uniq_char), num_layers=1, batch_first=True)\n",
    "optimizer = torch.optim.Adam(rnn.parameters(), lr=learning_rate)\n",
    "\n",
    "for epoc in range(10):\n",
    "    optimizer.zero_grad()\n",
    "    out, hidden = rnn(source_v)\n",
    "    loss = torch.nn.functional.cross_entropy(out.squeeze(0), target_v)\n",
    "    word_indexes = out.argmax(dim=2).data.numpy()[0]\n",
    "    loss.backward()\n",
    "    optimizer.step()\n",
    "    predicted_word = ''.join([idx2chr[i] for i in word_indexes])\n",
    "    print('Predicted word:', predicted_word)\n",
    "    print('Epoc:', epoc, ' loss:', loss.item())"
   ]
  },
  {
   "cell_type": "code",
   "execution_count": null,
   "metadata": {},
   "outputs": [],
   "source": []
  }
 ],
 "metadata": {
  "kernelspec": {
   "display_name": "Python 3",
   "language": "python",
   "name": "python3"
  },
  "language_info": {
   "codemirror_mode": {
    "name": "ipython",
    "version": 3
   },
   "file_extension": ".py",
   "mimetype": "text/x-python",
   "name": "python",
   "nbconvert_exporter": "python",
   "pygments_lexer": "ipython3",
   "version": "3.7.7"
  }
 },
 "nbformat": 4,
 "nbformat_minor": 2
}
